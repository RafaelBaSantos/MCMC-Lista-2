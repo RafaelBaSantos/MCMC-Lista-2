{
 "cells": [
  {
   "cell_type": "code",
   "execution_count": 4,
   "id": "2402bb5c-7cc8-4bae-a011-e02d8ac15709",
   "metadata": {
    "tags": []
   },
   "outputs": [],
   "source": [
    "import string\n",
    "import math\n",
    "import requests\n",
    "import time\n",
    "\n",
    "import scipy as sp\n",
    "from scipy.stats import norm\n",
    "from scipy.integrate import quad\n",
    "\n",
    "import random as rd\n",
    "import numpy as np\n",
    "import pandas as pd\n",
    "import seaborn as sns\n",
    "\n",
    "from concurrent.futures import ThreadPoolExecutor\n",
    "import requests\n",
    "from requests.exceptions import ConnectionError"
   ]
  },
  {
   "cell_type": "markdown",
   "id": "cadfb315-cffc-4aa2-9a6c-9d2465f8b28c",
   "metadata": {
    "tags": []
   },
   "source": [
    "# Questão 1"
   ]
  },
  {
   "cell_type": "markdown",
   "id": "9e9d3360-73e6-4205-aa29-ccdabb4aa464",
   "metadata": {},
   "source": [
    "A fim de verificar a resposta analítica, fiz um algoritmo de Monte Carlo para o cálculo do estimador de P\\[Z>=10\\]"
   ]
  },
  {
   "cell_type": "code",
   "execution_count": 5,
   "id": "f2ee8719-3e86-43c0-88b5-6f75e1f82da9",
   "metadata": {
    "tags": []
   },
   "outputs": [
    {
     "name": "stdout",
     "output_type": "stream",
     "text": [
      "0.01043\n"
     ]
    }
   ],
   "source": [
    "n = 100000 # Número de amostras\n",
    "list_z = []\n",
    "for i in range(n):\n",
    "    z = 1\n",
    "    while True:\n",
    "        resultado_dado = rd.randint(1, 20)\n",
    "        if resultado_dado in (2, 3, 5, 7, 11, 13, 17, 19):  # testa se o resultado do dado é primo\n",
    "            break\n",
    "        else:\n",
    "            z+=1\n",
    "    list_z.append(z)\n",
    "\n",
    "list_z_10 = [z for z in list_z if z >= 10]  # filtra os resultados onde z>=10\n",
    "p_z_10 = len(list_z_10)/len(list_z)  # estimador de Monte Carlo para P[z>=10]\n",
    "\n",
    "print(p_z_10)"
   ]
  },
  {
   "cell_type": "markdown",
   "id": "a2edc852-a128-4521-944e-82a0132765ba",
   "metadata": {
    "tags": []
   },
   "source": [
    "# Questão 2"
   ]
  },
  {
   "cell_type": "markdown",
   "id": "939e6658-7dec-44e4-92d3-17e3e1c44b4e",
   "metadata": {},
   "source": [
    "Calculei o estimador da chance de acertar a moeda escolhida para n = \\[1,...,100\\], com base na fórmula encontrada analiticamente.\n",
    "A acurácia foi calculada para todo n variando de 0 a 100.\n",
    "Para n=38, a acurácia foi de 0.9468 e para n=39, foi 0.9510.\n",
    "Logo, com n=39, temos mais que 95% de chance de acertar a moeda correta."
   ]
  },
  {
   "cell_type": "code",
   "execution_count": 10,
   "id": "adec22c3-21a2-44e4-97fa-5b7f570ac66e",
   "metadata": {},
   "outputs": [
    {
     "name": "stdout",
     "output_type": "stream",
     "text": [
      "0.9510351888769604\n"
     ]
    }
   ],
   "source": [
    "dict_total = dict()\n",
    "for n in range(100):\n",
    "    s_1 = int(np.floor(n*np.log(2)/np.log(3)))\n",
    "    s_2 = int(np.ceil(n*np.log(2)/np.log(3)))\n",
    "\n",
    "    total = 0\n",
    "    for i in range(s_1+1):  # Calcula a probabilidade do estimador acertar e a moeda ser honesta\n",
    "        comb = sp.special.comb(n, i)  # combinação de n, i a i.\n",
    "        total_local = (2**n/(2**n+3**i)*(comb*(2**(-n)+(3/4)**i*(1/4)**(n-i))/2))\n",
    "        total += total_local\n",
    "\n",
    "    for i in range(s_2, n+1):  # Calcula a probabilidade do estimador acertar e a moeda ser enviesada\n",
    "        comb = sp.special.comb(n, i)\n",
    "        total_local = (3**i/(2**n+3**i)*(comb*(2**(-n)+(3/4)**i*(1/4)**(n-i))/2))\n",
    "        total += total_local\n",
    "    dict_total[n] = total\n",
    "    \n",
    "print(dict_total[39])"
   ]
  },
  {
   "cell_type": "markdown",
   "id": "2de6f021-8d55-4541-92b7-79000b2e6ac6",
   "metadata": {
    "tags": []
   },
   "source": [
    "Criei um estimador de Monte Carlo para validar a fórmula da acurácia do estimador criado, encontrada analiticamente , para n=39"
   ]
  },
  {
   "cell_type": "code",
   "execution_count": 11,
   "id": "80376701-2242-4c16-b95f-10069a05a6f6",
   "metadata": {
    "tags": []
   },
   "outputs": [
    {
     "name": "stdout",
     "output_type": "stream",
     "text": [
      "freq_acertos: 0.9506\n"
     ]
    }
   ],
   "source": [
    "n = 39\n",
    "n_trials = 10000\n",
    "\n",
    "threshold = n*np.log(2)/np.log(3)\n",
    "\n",
    "lista_soma_honesto = []\n",
    "lista_soma_enviesado = []\n",
    "acertos_honesto = 0\n",
    "acertos_enviesado = 0\n",
    "\n",
    "for i in range(n_trials):\n",
    "    if rd.random() < 0.5:\n",
    "        honesto = rd.choices((1,0), weights=(0.5, 0.5), k=n)\n",
    "        soma_local = sum(honesto)\n",
    "        lista_soma_honesto.append(soma_local)\n",
    "        if soma_local < threshold:\n",
    "            acertos_honesto += 1\n",
    "    else:\n",
    "        enviesado = rd.choices((1,0), weights=(0.75, 0.25), k=n)\n",
    "        soma_local = sum(enviesado)\n",
    "        lista_soma_enviesado.append(soma_local)\n",
    "        if soma_local > threshold:\n",
    "            acertos_enviesado += 1\n",
    "\n",
    "acertos = acertos_honesto + acertos_enviesado\n",
    "freq_acertos = acertos/n_trials\n",
    "print(\"freq_acertos: \" + str(freq_acertos))"
   ]
  },
  {
   "cell_type": "markdown",
   "id": "d8351232-ead2-4ddf-ba8a-dc3541124e24",
   "metadata": {},
   "source": [
    "Fiz um histograma de S_n, para ver graficamente a distribuição de S_n como uma soma de binomiais."
   ]
  },
  {
   "cell_type": "code",
   "execution_count": 15,
   "id": "359f07fa-a712-409a-a1d0-c708043c9bcf",
   "metadata": {
    "tags": []
   },
   "outputs": [
    {
     "data": {
      "text/plain": [
       "<Axes: xlabel='S_n', ylabel='Count'>"
      ]
     },
     "execution_count": 15,
     "metadata": {},
     "output_type": "execute_result"
    },
    {
     "data": {
      "image/png": "[encoded data removed]",
      "text/plain": [
       "<Figure size 640x480 with 1 Axes>"
      ]
     },
     "metadata": {},
     "output_type": "display_data"
    }
   ],
   "source": [
    "df_honesto = pd.DataFrame({\"moeda\": [\"honesta\"]*len(lista_soma_honesto), \"S_n\": lista_soma_honesto})\n",
    "df_enviesado = pd.DataFrame({\"moeda\": [\"enviesada\"]*len(lista_soma_enviesado), \"S_n\": lista_soma_enviesado})\n",
    "\n",
    "df_moedas = pd.concat([df_honesto, df_enviesado])\n",
    "\n",
    "sns.histplot(data=df_moedas, x=\"S_n\", hue=\"moeda\", multiple=\"stack\", bins=30)"
   ]
  },
  {
   "cell_type": "markdown",
   "id": "1f9b3ed2-f28e-42d1-8744-ee728147058e",
   "metadata": {},
   "source": [
    "# Questão 3"
   ]
  },
  {
   "cell_type": "markdown",
   "id": "078ebcb5-8129-4d75-9816-1defe6c4ecee",
   "metadata": {},
   "source": [
    "Valor da inversa da normal no ponto 0.95, utilizada no calculo do estimador de P\\[Z>=74\\]"
   ]
  },
  {
   "cell_type": "code",
   "execution_count": 16,
   "id": "307c0fec-9acb-49da-a064-0dde8272fa4c",
   "metadata": {
    "tags": []
   },
   "outputs": [
    {
     "data": {
      "text/plain": [
       "1.6448536269514722"
      ]
     },
     "execution_count": 16,
     "metadata": {},
     "output_type": "execute_result"
    }
   ],
   "source": [
    "norm.ppf(0.95)"
   ]
  },
  {
   "cell_type": "markdown",
   "id": "f1333c1f-ecf4-46e9-b054-739ccfb681ee",
   "metadata": {},
   "source": [
    "Criei um algoritmo de Monte Carlo para validar que P\\[Z>=74\\] = 0.05% e validar as contas analíticas"
   ]
  },
  {
   "cell_type": "code",
   "execution_count": 18,
   "id": "247c7d1a-e3c4-437f-b790-bd22dd0788ba",
   "metadata": {
    "tags": []
   },
   "outputs": [],
   "source": [
    "list_s = []\n",
    "for i in range(10000):\n",
    "    sanduiches = 0\n",
    "    for i in range(64):\n",
    "        sanduiches += np.random.choice([0, 1, 2], p=[1/4, 1/2, 1/4])\n",
    "    list_s.append(sanduiches)"
   ]
  },
  {
   "cell_type": "code",
   "execution_count": 20,
   "id": "7904be7a-5e39-4d15-9cb1-99365f24eba6",
   "metadata": {
    "tags": []
   },
   "outputs": [
    {
     "name": "stdout",
     "output_type": "stream",
     "text": [
      "0.0291\n"
     ]
    }
   ],
   "source": [
    "list_s_74 = [s for s in list_s if s > 74]  # filtra os resultados onde z>139\n",
    "p_s_74 = len(list_s_74)/len(list_s)  # estimador de Monte Carlo para P[z>=139]\n",
    "\n",
    "print(p_s_74)"
   ]
  },
  {
   "cell_type": "code",
   "execution_count": 27,
   "id": "f8b31d49-e0bd-4b58-aaa3-df6765facc65",
   "metadata": {
    "tags": []
   },
   "outputs": [
    {
     "data": {
      "text/plain": [
       "<Axes: xlabel='S_n', ylabel='Count'>"
      ]
     },
     "execution_count": 27,
     "metadata": {},
     "output_type": "execute_result"
    },
    {
     "data": {
      "image/png": "[encoded data removed]",
      "text/plain": [
       "<Figure size 640x480 with 1 Axes>"
      ]
     },
     "metadata": {},
     "output_type": "display_data"
    }
   ],
   "source": [
    "# O histograma de S_n sugere que a distribuição de S_n converge para uma normal\n",
    "\n",
    "df_sandubas = pd.DataFrame({\"S_n\": list_s})\n",
    "sns.histplot(data=df_sandubas, x=\"S_n\", multiple=\"stack\", bins=43)"
   ]
  },
  {
   "cell_type": "markdown",
   "id": "17ee17b2-c537-4133-ae00-eeed6adb64ee",
   "metadata": {
    "tags": []
   },
   "source": [
    "# Questão 5\n",
    "\n",
    "\"Seja X_i uma sequência i.i.d. de v.a. contínuas uniformes em \\[0, 1\\]. Seja V o menor número k tal que a soma das primeiras k variáveis seja maior do que 1. Ou seja, V = min{k ┤| X_1+⋯+X_k≥1}.\""
   ]
  },
  {
   "cell_type": "markdown",
   "id": "11b9aaf6-881e-4d24-b8b8-5f6c1fda8491",
   "metadata": {},
   "source": [
    "### Ponto 1\n",
    "\n",
    "Algoritmo que gera uma amostra de V"
   ]
  },
  {
   "cell_type": "code",
   "execution_count": 28,
   "id": "dbc450dc-51f5-484f-b6bd-522a8e36a03d",
   "metadata": {
    "tags": []
   },
   "outputs": [
    {
     "data": {
      "text/plain": [
       "2"
      ]
     },
     "execution_count": 28,
     "metadata": {},
     "output_type": "execute_result"
    }
   ],
   "source": [
    "def gerar_amostra_v():\n",
    "    v = 0\n",
    "    soma_uniformes = 0\n",
    "    while True:\n",
    "        soma_uniformes += rd.random()\n",
    "        v+= 1\n",
    "        if soma_uniformes > 1:\n",
    "            return v\n",
    "\n",
    "gerar_amostra_v()"
   ]
  },
  {
   "cell_type": "markdown",
   "id": "99d426fa-5ec0-4b5d-b2c2-80af3512ad11",
   "metadata": {},
   "source": [
    "### Ponto 2\n",
    "\n",
    "Algoritmo de Monte Carlo que estima o valor esperado de V"
   ]
  },
  {
   "cell_type": "code",
   "execution_count": 30,
   "id": "6d7ea69e-0811-4bc8-894e-414be9e480fd",
   "metadata": {
    "tags": []
   },
   "outputs": [
    {
     "data": {
      "text/plain": [
       "2.72"
      ]
     },
     "execution_count": 30,
     "metadata": {},
     "output_type": "execute_result"
    }
   ],
   "source": [
    "def valor_esperado_v(n):\n",
    "    v_soma = 0\n",
    "    for i in range(n):\n",
    "        v_soma += gerar_amostra_v()\n",
    "    return v_soma/n\n",
    "\n",
    "valor_esperado_v(100)"
   ]
  },
  {
   "cell_type": "markdown",
   "id": "f328faa5-6fcc-4bf4-a181-b0f4d67582d9",
   "metadata": {},
   "source": [
    "### Ponto 3\n",
    "\n",
    "Gráfico do valor estimado em função do número de amostras, para n = \\[1, 5, 10, ..., 50000]"
   ]
  },
  {
   "cell_type": "code",
   "execution_count": 31,
   "id": "566c56c4-d4b5-41ae-8c88-2b771cc7bef4",
   "metadata": {
    "tags": []
   },
   "outputs": [],
   "source": [
    "def valores_estimados_v(n, passo):\n",
    "    list_n = []\n",
    "    list_freq_v = []\n",
    "    for i in range(n):\n",
    "        n_local = (i+1)*passo\n",
    "        freq_v = valor_esperado_v(n_local)\n",
    "        list_n.append(n_local)\n",
    "        list_freq_v.append(freq_v)\n",
    "    return pd.DataFrame({\"n\":list_n,\"freq\": list_freq_v})"
   ]
  },
  {
   "cell_type": "code",
   "execution_count": 34,
   "id": "31514a59-0fb4-428e-acbf-e9b388fafc0d",
   "metadata": {
    "tags": []
   },
   "outputs": [
    {
     "name": "stdout",
     "output_type": "stream",
     "text": [
      "          n      freq\n",
      "0         5  2.600000\n",
      "1        10  2.300000\n",
      "2        15  2.666667\n",
      "3        20  2.750000\n",
      "4        25  2.760000\n",
      "...     ...       ...\n",
      "9995  49980  2.718647\n",
      "9996  49985  2.723037\n",
      "9997  49990  2.721044\n",
      "9998  49995  2.716712\n",
      "9999  50000  2.722560\n",
      "\n",
      "[10000 rows x 2 columns]\n"
     ]
    }
   ],
   "source": [
    "df_v = valores_estimados_v(10000, 5)\n",
    "print(df_v)"
   ]
  },
  {
   "cell_type": "code",
   "execution_count": 35,
   "id": "a68002e7-cb1a-430a-8ddb-7e85678ebf1e",
   "metadata": {
    "tags": []
   },
   "outputs": [
    {
     "data": {
      "text/plain": [
       "<Axes: xlabel='n', ylabel='freq'>"
      ]
     },
     "execution_count": 35,
     "metadata": {},
     "output_type": "execute_result"
    },
    {
     "data": {
      "image/png": "[encoded data removed]",
      "text/plain": [
       "<Figure size 640x480 with 1 Axes>"
      ]
     },
     "metadata": {},
     "output_type": "display_data"
    }
   ],
   "source": [
    "sns.scatterplot(data = df_v, x=\"n\", y=\"freq\")"
   ]
  },
  {
   "cell_type": "markdown",
   "id": "cbc124b4-1e34-452f-b856-5258e23af768",
   "metadata": {},
   "source": [
    "V parece se aproximar do número neperiano."
   ]
  },
  {
   "cell_type": "markdown",
   "id": "5345a911-be49-42b1-b77d-db0ff5f16774",
   "metadata": {},
   "source": [
    "# Questão 7"
   ]
  },
  {
   "cell_type": "markdown",
   "id": "0ec034c8-0a3f-4b19-b55f-61ed50a4b27e",
   "metadata": {},
   "source": [
    "### Ponto 2"
   ]
  },
  {
   "cell_type": "markdown",
   "id": "900bb786-0888-472b-b036-e80e5c3f528a",
   "metadata": {
    "tags": []
   },
   "source": [
    "Método de Monte Carlo para gerar amostras e estimar quantos domínios existem\n",
    " dentro do padrão de nomes http://www.[a-z](k).ufrj.br, onde \\[a-z\\](k) é qualquer sequência de caracteres de comprimento k ou menor"
   ]
  },
  {
   "cell_type": "code",
   "execution_count": 37,
   "id": "e90fdb09-7120-4e1b-84c2-aea7feb1d3ad",
   "metadata": {
    "tags": []
   },
   "outputs": [],
   "source": [
    "def checar_dominio(domain):\n",
    "    try:\n",
    "        response = requests.head(domain, timeout=10)\n",
    "    except (ConnectionError, requests.exceptions.Timeout):\n",
    "        return 0\n",
    "    else:\n",
    "        return 1\n",
    "\n",
    "\n",
    "def checar_dominios(list_domain):\n",
    "    with ThreadPoolExecutor() as executor:\n",
    "        gen_map = executor.map(checar_dominio, list_domain)\n",
    "    return sum(gen_map)\n",
    "\n",
    "\n",
    "def gerar_dominio(k):\n",
    "    global list_letras\n",
    "    return \"http://www.\" + ''.join(rd.choices(list_letras, k=k)) + \".ufrj.br\"\n",
    "\n",
    "\n",
    "def gerar_dominios(k, n):\n",
    "    with ThreadPoolExecutor() as executor:\n",
    "        gen_map = executor.map(gerar_dominio, [k]*n)\n",
    "        return list(gen_map)\n",
    "\n",
    "\n",
    "def estimar_dominios(k, n_amostras):\n",
    "    soma_x = 0\n",
    "    lista_dominios = gerar_dominios(k, n_amostras)\n",
    "    soma_x += checar_dominios(lista_dominios)\n",
    "\n",
    "    media_x = soma_x/n_amostras\n",
    "    n_total = 26*27**(k-1)\n",
    "    estimador = media_x * n_total\n",
    "    \n",
    "    return estimador"
   ]
  },
  {
   "cell_type": "code",
   "execution_count": 38,
   "id": "8d98233a-85c7-4a37-8b33-26213ae4131b",
   "metadata": {
    "tags": []
   },
   "outputs": [],
   "source": [
    "list_letras = list(string.ascii_lowercase) + [\"\"]"
   ]
  },
  {
   "cell_type": "code",
   "execution_count": 62,
   "id": "f6c24be8-a2d7-405e-b80e-09860511d2c4",
   "metadata": {
    "collapsed": true,
    "jupyter": {
     "outputs_hidden": true
    },
    "tags": []
   },
   "outputs": [
    {
     "name": "stdout",
     "output_type": "stream",
     "text": [
      "Estimador para n=1 é 0.0\n",
      "Estimador para n=101 é 5066.910891089109\n",
      "Estimador para n=201 é 5092.119402985075\n",
      "Estimador para n=301 é 0.0\n",
      "Estimador para n=401 é 0.0\n",
      "Estimador para n=501 é 1021.4730538922155\n",
      "Estimador para n=601 é 0.0\n",
      "Estimador para n=701 é 0.0\n",
      "Estimador para n=801 é 638.8988764044944\n",
      "Estimador para n=901 é 0.0\n",
      "Estimador para n=1001 é 511.24675324675326\n",
      "Estimador para n=1101 é 0.0\n",
      "Estimador para n=1201 é 1278.3297252289758\n",
      "Estimador para n=1301 é 0.0\n",
      "Estimador para n=1401 é 0.0\n",
      "Estimador para n=1501 é 0.0\n",
      "Estimador para n=1601 é 319.64896939412864\n",
      "Estimador para n=1701 é 601.7142857142857\n",
      "Estimador para n=1801 é 568.3042754025541\n",
      "Estimador para n=1901 é 538.4092582851131\n",
      "Estimador para n=2001 é 511.5022488755622\n",
      "Estimador para n=2101 é 243.57829604950024\n",
      "Estimador para n=2201 é 0.0\n",
      "Estimador para n=2301 é 444.81355932203394\n",
      "Estimador para n=2401 é 213.14369012911288\n",
      "Estimador para n=2501 é 409.2427029188325\n",
      "Estimador para n=2601 é 983.7716262975779\n",
      "Estimador para n=2701 é 0.0\n",
      "Estimador para n=2801 é 730.8218493395216\n",
      "Estimador para n=2901 é 176.40744570837643\n",
      "Estimador para n=3001 é 511.5874708430523\n",
      "Estimador para n=3101 é 495.08997097710414\n",
      "Estimador para n=3201 é 479.6232427366448\n",
      "Estimador para n=3301 é 0.0\n",
      "Estimador para n=3401 é 752.3640105851221\n",
      "Estimador para n=3501 é 438.52442159383037\n",
      "Estimador para n=3601 é 852.6931407942238\n",
      "Estimador para n=3701 é 276.5512023777357\n",
      "Estimador para n=3801 é 134.63772691397003\n",
      "Estimador para n=3901 é 918.3045372981287\n",
      "Estimador para n=4001 é 255.8150462384404\n",
      "Estimador para n=4101 é 249.5771762984638\n",
      "Estimador para n=4201 é 365.45441561532965\n",
      "Estimador para n=4301 é 475.9432690072076\n",
      "Estimador para n=4401 é 348.84662576687117\n",
      "Estimador para n=4501 é 341.0962008442568\n",
      "Estimador para n=4601 é 111.22755922625517\n",
      "Estimador para n=4701 é 0.0\n",
      "Estimador para n=4801 é 319.78212872318267\n",
      "Estimador para n=4901 é 208.83819628647214\n",
      "Estimador para n=5001 é 716.3179364127175\n",
      "Estimador para n=5101 é 200.65006861399726\n",
      "Estimador para n=5201 é 491.9803883868487\n",
      "Estimador para n=5301 é 289.6196943972835\n",
      "Estimador para n=5401 é 379.00981299759303\n",
      "Estimador para n=5501 é 279.0899836393383\n",
      "Estimador para n=5601 é 182.73808248527047\n",
      "Estimador para n=5701 é 179.53271355902473\n",
      "Estimador para n=5801 é 705.7514221685917\n",
      "Estimador para n=5901 é 607.067615658363\n",
      "Estimador para n=6001 é 426.3939343442759\n",
      "Estimador para n=6101 é 251.64300934273072\n",
      "Estimador para n=6201 é 330.1132075471698\n",
      "Estimador para n=6301 é 243.65561022059993\n",
      "Estimador para n=6401 é 399.74847680049993\n",
      "Estimador para n=6501 é 157.43977849561605\n",
      "Estimador para n=6601 é 232.5820330252992\n",
      "Estimador para n=6701 é 534.5927473511416\n",
      "Estimador para n=6801 é 300.9898544331716\n",
      "Estimador para n=6901 é 741.5707868424867\n",
      "Estimador para n=7001 é 73.0978431652621\n",
      "Estimador para n=7101 é 144.13688212927755\n",
      "Estimador para n=7201 é 497.47340647132347\n",
      "Estimador para n=7301 é 420.5654019997261\n",
      "Estimador para n=7401 é 138.29428455614106\n",
      "Estimador para n=7501 é 204.67590987868286\n",
      "Estimador para n=7601 é 336.6386001841863\n",
      "Estimador para n=7701 é 598.0810284378653\n",
      "Estimador para n=7801 é 393.6095372388155\n",
      "Estimador para n=7901 é 194.3138843184407\n",
      "Estimador para n=8001 é 127.92350956130483\n",
      "Estimador para n=8101 é 442.20540673990865\n",
      "Estimador para n=8201 é 124.80380441409585\n",
      "Estimador para n=8301 é 369.9009757860499\n",
      "Estimador para n=8401 é 243.665277943102\n",
      "Estimador para n=8501 é 421.39818844841784\n",
      "Estimador para n=8601 é 356.99895361004536\n",
      "Estimador para n=8701 é 588.159981611309\n",
      "Estimador para n=8801 é 232.59084194977842\n",
      "Estimador para n=8901 é 344.9666329625885\n",
      "Estimador para n=9001 é 284.27841350961006\n",
      "Estimador para n=9101 é 281.1548181518515\n",
      "Estimador para n=9201 é 166.85947179654386\n",
      "Estimador para n=9301 é 495.196430491345\n",
      "Estimador para n=9401 é 435.49239442612486\n",
      "Estimador para n=9501 é 269.317966529839\n",
      "Estimador para n=9601 é 106.60514529736486\n",
      "Estimador para n=9701 é 474.77806411710134\n",
      "Estimador para n=9801 é 365.504132231405\n",
      "Estimador para n=9901 é 206.75002524997475\n"
     ]
    }
   ],
   "source": [
    "list_n = []\n",
    "list_estimadores = []\n",
    "for i in range(100):\n",
    "    n_local = 1 + 100*(i)\n",
    "    estimador = estimar_dominios(4, n_local)\n",
    "    print(\"Estimador para n=\" + str(n_local) + \" é \" + str(estimador))\n",
    "    list_n.append(n_local)\n",
    "    list_estimadores.append(estimador)"
   ]
  },
  {
   "cell_type": "code",
   "execution_count": 63,
   "id": "a1a78bbc-cabc-4071-9301-da4fd37fd8bc",
   "metadata": {
    "tags": []
   },
   "outputs": [],
   "source": [
    "df_estimadores = pd.DataFrame({\"n\": list_n, \"estimador\": list_estimadores})"
   ]
  },
  {
   "cell_type": "code",
   "execution_count": 64,
   "id": "911e21a0-94b1-4e5e-9741-c82fd55418c1",
   "metadata": {
    "tags": []
   },
   "outputs": [
    {
     "data": {
      "text/plain": [
       "<Axes: xlabel='n', ylabel='estimador'>"
      ]
     },
     "execution_count": 64,
     "metadata": {},
     "output_type": "execute_result"
    },
    {
     "data": {
      "image/png": "[encoded data removed]",
      "text/plain": [
       "<Figure size 640x480 with 1 Axes>"
      ]
     },
     "metadata": {},
     "output_type": "display_data"
    }
   ],
   "source": [
    "sns.scatterplot(data = df_estimadores, x=\"n\", y=\"estimador\")"
   ]
  },
  {
   "cell_type": "markdown",
   "id": "ebac7ffc-fbb8-420f-833f-17d5ba580557",
   "metadata": {},
   "source": [
    "No experimento realizado, o estimador de w_n não parece convergir.\n",
    "O motivo disso é que, como N, o número domínios possíveis, é muito grande e P\\[X\\] é muito pequeno,\n",
    "o valor do estimador muda bruscamente com pequenas alterações no número de casos encontrados na amostra."
   ]
  },
  {
   "cell_type": "markdown",
   "id": "6f2598b5-e859-4a9f-9ef8-8d6572c8a7fb",
   "metadata": {},
   "source": [
    "# Questão 8"
   ]
  },
  {
   "cell_type": "markdown",
   "id": "8d6294f4-81bb-4a86-b9aa-d929e1fe1681",
   "metadata": {},
   "source": [
    "A fim de validar as contas feitas analiticamente, implementei os geradores de amostras por Rejection Sampling desenvolvidos nos pontos 1 e 2 da lista. "
   ]
  },
  {
   "cell_type": "markdown",
   "id": "0a95a617-32bc-4c27-bb6a-391e6303a502",
   "metadata": {},
   "source": [
    "### Ponto 1"
   ]
  },
  {
   "cell_type": "code",
   "execution_count": 57,
   "id": "37fcc6e8-2a4b-402a-b881-b73a5545ab8c",
   "metadata": {
    "tags": []
   },
   "outputs": [],
   "source": [
    "def f(x):\n",
    "    comb = sp.special.comb(1000, x)\n",
    "    return comb*0.2**x*0.8**(1000-x)\n",
    "\n",
    "def amostra_f_unif():\n",
    "    while True:\n",
    "        a_1 = rd.randint(1, 1000)\n",
    "        a_2 = rd.random()*0.031525361  # como g(x) é uniforme, c*g(x) é sempre igual a 0.031525361\n",
    "        f_a_1 = f(a_1)\n",
    "        if a_2 <= f_a_1:\n",
    "            return a_1"
   ]
  },
  {
   "cell_type": "markdown",
   "id": "08e7c240-d190-4215-93f7-6f095290b6f6",
   "metadata": {},
   "source": [
    "### Ponto 2"
   ]
  },
  {
   "cell_type": "code",
   "execution_count": 76,
   "id": "4d90efd6-43dd-4817-b77b-2eaad9054b7b",
   "metadata": {
    "tags": []
   },
   "outputs": [],
   "source": [
    "def g(x):\n",
    "    if x < 174:\n",
    "        return 1/1521.316251\n",
    "    elif x < 227:\n",
    "        return 1/151.725297\n",
    "    else:\n",
    "        return 1/1443.195636\n",
    "\n",
    "def G_inv(x):\n",
    "    if x < 0.120966:\n",
    "        return x*1521.316251-1\n",
    "    elif x < 0.464382:\n",
    "        return (x-0.114375)*151.725297+173\n",
    "    else:\n",
    "        return (x-0.46369)*1443.195636+226\n",
    "\n",
    "def amostra_g():\n",
    "    return math.floor(G_inv(rd.random()))+1"
   ]
  },
  {
   "cell_type": "code",
   "execution_count": 77,
   "id": "c12e8b95-de50-4131-aa83-309c180d1e07",
   "metadata": {
    "tags": []
   },
   "outputs": [],
   "source": [
    "def amostra_f_nova():\n",
    "    amostra = None\n",
    "    while True:\n",
    "        a_1 = amostra_g()\n",
    "        a_2 = rd.random()*4.78314*g(a_1)  # como g(x) é uniforme, c*g(x) é sempre igual a 0.031525361\n",
    "        f_a_1 = f(a_1)\n",
    "        if a_2 <= f_a_1:\n",
    "            return a_1"
   ]
  },
  {
   "cell_type": "markdown",
   "id": "5f86854c-97a8-4582-a272-e67691ea0d06",
   "metadata": {
    "tags": []
   },
   "source": [
    "A fim de testar a eficácia de cada gerador no tempo, criei 100000 de cada e comparei o tempo que cada um levou para terminar."
   ]
  },
  {
   "cell_type": "code",
   "execution_count": 103,
   "id": "1d7020cc-e22d-4d96-aba3-0d6304a0b8e5",
   "metadata": {
    "tags": []
   },
   "outputs": [
    {
     "name": "stdout",
     "output_type": "stream",
     "text": [
      "40.74348187446594\n"
     ]
    }
   ],
   "source": [
    "time_inicial = time.time()\n",
    "list_f_unif = []\n",
    "for i in range(100000):\n",
    "    list_f_unif.append(amostra_f_unif())\n",
    "time_final = time.time()\n",
    "print(time_final - time_inicial)"
   ]
  },
  {
   "cell_type": "code",
   "execution_count": 104,
   "id": "f5ffea09-22dc-464d-bf28-64b351af1090",
   "metadata": {
    "tags": []
   },
   "outputs": [
    {
     "name": "stdout",
     "output_type": "stream",
     "text": [
      "5.831044673919678\n"
     ]
    }
   ],
   "source": [
    "time_inicial = time.time()\n",
    "list_f_nova = []\n",
    "for i in range(100000):\n",
    "    list_f_nova.append(amostra_f_nova())    \n",
    "time_final = time.time()\n",
    "print(time_final - time_inicial)"
   ]
  },
  {
   "cell_type": "markdown",
   "id": "1024c2f5-b572-4998-a9b8-8c85282c7569",
   "metadata": {},
   "source": [
    "As contas analíticas mostravam que o Rejection Sampling utilizando a distribuição uniforme deve repetir o processo em média 31.52 vezes para gerar uma amostra.\n",
    "Mas com a nova distribuição, a amostra é gerada em média 1.264331 repetições.\n",
    "\n",
    "Considerando o tempo que levou para cada um, o gerador com a distribuição uniforme demorou 40.74 segundos, já o com a nova distribuição demorou somente 5.83 segundos."
   ]
  },
  {
   "cell_type": "markdown",
   "id": "dee86732-bee2-44cd-98af-7427402810ff",
   "metadata": {
    "tags": []
   },
   "source": [
    "Plotei, abaixo, o histograma das duas distribuições a fim de validar que elas tem a mesma distribuição."
   ]
  },
  {
   "cell_type": "code",
   "execution_count": 94,
   "id": "6d41e953-fdf4-4e18-b623-0ef3fb729f7b",
   "metadata": {
    "tags": []
   },
   "outputs": [],
   "source": [
    "df_unif = pd.DataFrame({\"tipo\": [\"uniforme\"]*len(list_f_unif),\"amostra\":list_f_unif})\n",
    "df_nova = pd.DataFrame({\"tipo\": [\"nova\"]*len(list_f_nova),\"amostra\":list_f_nova})\n",
    "df_8 = pd.concat([df_unif, df_nova])"
   ]
  },
  {
   "cell_type": "code",
   "execution_count": 102,
   "id": "e445dd13-fde0-4f49-ac5c-f0aace690270",
   "metadata": {
    "tags": []
   },
   "outputs": [
    {
     "data": {
      "text/plain": [
       "<Axes: xlabel='amostra', ylabel='Count'>"
      ]
     },
     "execution_count": 102,
     "metadata": {},
     "output_type": "execute_result"
    },
    {
     "data": {
      "image/png": "[encoded data removed]",
      "text/plain": [
       "<Figure size 640x480 with 1 Axes>"
      ]
     },
     "metadata": {},
     "output_type": "display_data"
    }
   ],
   "source": [
    "sns.histplot(data=df_8, x=\"amostra\", hue=\"tipo\", bins=20)"
   ]
  },
  {
   "cell_type": "markdown",
   "id": "2bb6fa56-9814-4602-9688-4266082dbab0",
   "metadata": {},
   "source": [
    "# Questão 9"
   ]
  },
  {
   "cell_type": "markdown",
   "id": "c8bc456f-7c2e-4483-b6ad-e3f4cd3a3619",
   "metadata": {},
   "source": [
    "### Ponto 1"
   ]
  },
  {
   "cell_type": "markdown",
   "id": "3fb9af08-a475-4d62-a8cf-befa09c8dd5e",
   "metadata": {
    "tags": []
   },
   "source": [
    "Implementei um estimador simples para a integral de g(x)=e^(-x^2) no intervalo de \\[0,1\\]"
   ]
  },
  {
   "cell_type": "code",
   "execution_count": 42,
   "id": "7fcf6681-a63d-46b1-a868-e80fd9146e86",
   "metadata": {
    "tags": []
   },
   "outputs": [],
   "source": [
    "def g(x):\n",
    "    return math.e**(-x**2)\n",
    "\n",
    "def integracao_monte_carlo(f, n):\n",
    "    soma_mc = 0\n",
    "    for i in range(n):\n",
    "        soma_mc += f(rd.random())\n",
    "    return soma_mc/n"
   ]
  },
  {
   "cell_type": "code",
   "execution_count": 43,
   "id": "4d8179e3-d47c-4696-8f15-9fc2ce009821",
   "metadata": {
    "tags": []
   },
   "outputs": [
    {
     "data": {
      "text/plain": [
       "0.7451691308780747"
      ]
     },
     "execution_count": 43,
     "metadata": {},
     "output_type": "execute_result"
    }
   ],
   "source": [
    "integracao_monte_carlo(g, 100)"
   ]
  },
  {
   "cell_type": "markdown",
   "id": "36bb2924-db7e-43da-b07f-5d15b0299799",
   "metadata": {},
   "source": [
    "### Ponto 2"
   ]
  },
  {
   "cell_type": "markdown",
   "id": "4b93d158-cb7a-4f62-8df3-44475dee97d5",
   "metadata": {},
   "source": [
    "Implementei um estimador utilizando Importance Sampling, utilizando h(x) = (e/(e-1)*e^(-x)"
   ]
  },
  {
   "cell_type": "code",
   "execution_count": 94,
   "id": "bd2c1653-5299-48c7-be15-cb6f3520e01d",
   "metadata": {
    "tags": []
   },
   "outputs": [],
   "source": [
    "def h(x):\n",
    "    return math.e**(1-x)/(math.e-1)"
   ]
  },
  {
   "cell_type": "code",
   "execution_count": 95,
   "id": "436d5d55-b908-4596-8dcc-632cdb2ae8fa",
   "metadata": {},
   "outputs": [],
   "source": [
    "def inv_H(x):\n",
    "    return -np.log(1-(x*(math.e-1)/math.e))"
   ]
  },
  {
   "cell_type": "code",
   "execution_count": 96,
   "id": "5629e3ed-98cb-4792-ab3d-cc0c579f76de",
   "metadata": {},
   "outputs": [],
   "source": [
    "def amostra_h():\n",
    "    return inv_H(rd.random())"
   ]
  },
  {
   "cell_type": "code",
   "execution_count": 97,
   "id": "3c19fceb-78a8-4b5f-8771-033e0755665a",
   "metadata": {
    "tags": []
   },
   "outputs": [],
   "source": [
    "def integracao_importance_sampling(n):\n",
    "    soma_mc = 0\n",
    "    for i in range(n):\n",
    "        x = amostra_h()\n",
    "        soma_mc += g(x)/h(x)\n",
    "    return soma_mc/n"
   ]
  },
  {
   "cell_type": "code",
   "execution_count": 106,
   "id": "558c323b-22d3-4a37-8911-ca557d028126",
   "metadata": {
    "tags": []
   },
   "outputs": [
    {
     "data": {
      "text/plain": [
       "0.7504568992372129"
      ]
     },
     "execution_count": 106,
     "metadata": {},
     "output_type": "execute_result"
    }
   ],
   "source": [
    "integracao_importance_sampling(100)"
   ]
  },
  {
   "cell_type": "markdown",
   "id": "70dc1a13-d47b-4319-9d1b-9037f71654fd",
   "metadata": {},
   "source": [
    "### Ponto 3"
   ]
  },
  {
   "cell_type": "markdown",
   "id": "8a5ba50f-e13d-4a96-93e6-b5a7534823f3",
   "metadata": {
    "tags": []
   },
   "source": [
    "Plotei um gráfico do erro relativo de cada um dos estimadores em função do número de amostras"
   ]
  },
  {
   "cell_type": "code",
   "execution_count": 107,
   "id": "be25f364-cef0-4321-91bf-faa8c752ee53",
   "metadata": {
    "tags": []
   },
   "outputs": [
    {
     "name": "stdout",
     "output_type": "stream",
     "text": [
      "0.7468241328124271\n"
     ]
    }
   ],
   "source": [
    "integ_exato, _ = quad(g, 0, 1) # valor real\n",
    "print(integ_exato)"
   ]
  },
  {
   "cell_type": "code",
   "execution_count": 108,
   "id": "2a3ee74b-91f0-4355-bc30-4c0e582e099f",
   "metadata": {
    "tags": []
   },
   "outputs": [],
   "source": [
    "list_n = []\n",
    "list_monte_carlo = []\n",
    "list_importance_sampling = []\n",
    "for i in range(1,7):\n",
    "    n = 10**i\n",
    "    list_n.append(n)\n",
    "    list_monte_carlo.append(integracao_monte_carlo(g, n))\n",
    "    list_importance_sampling.append(integracao_importance_sampling(n))"
   ]
  },
  {
   "cell_type": "code",
   "execution_count": 109,
   "id": "196918a4-1656-47dc-a98b-2344cdb10445",
   "metadata": {
    "tags": []
   },
   "outputs": [],
   "source": [
    "df_mc = pd.DataFrame({\"n\": list_n, \"tipo\": \"monte_carlo\", \"estimador\": list_monte_carlo})\n",
    "df_is = pd.DataFrame({\"n\": list_n, \"tipo\": \"importance_sampling\", \"estimador\": list_importance_sampling})\n",
    "df_8 = pd.concat([df_mc, df_is])\n",
    "df_8[\"n\"] = df_8[\"n\"].astype(str)"
   ]
  },
  {
   "cell_type": "code",
   "execution_count": 110,
   "id": "41daef32-2cd3-4e8b-beda-59091e02c2b5",
   "metadata": {
    "tags": []
   },
   "outputs": [],
   "source": [
    "df_8[\"estimador_erro\"] = abs(df_8[\"estimador\"]-integ_exato)/integ_exato"
   ]
  },
  {
   "cell_type": "code",
   "execution_count": 111,
   "id": "1e94e6aa-69d8-4ce2-a373-37b33adb69c3",
   "metadata": {
    "tags": []
   },
   "outputs": [
    {
     "data": {
      "text/html": [
       "<div>\n",
       "<style scoped>\n",
       "    .dataframe tbody tr th:only-of-type {\n",
       "        vertical-align: middle;\n",
       "    }\n",
       "\n",
       "    .dataframe tbody tr th {\n",
       "        vertical-align: top;\n",
       "    }\n",
       "\n",
       "    .dataframe thead th {\n",
       "        text-align: right;\n",
       "    }\n",
       "</style>\n",
       "<table border=\"1\" class=\"dataframe\">\n",
       "  <thead>\n",
       "    <tr style=\"text-align: right;\">\n",
       "      <th></th>\n",
       "      <th>n</th>\n",
       "      <th>tipo</th>\n",
       "      <th>estimador</th>\n",
       "      <th>estimador_erro</th>\n",
       "    </tr>\n",
       "  </thead>\n",
       "  <tbody>\n",
       "    <tr>\n",
       "      <th>0</th>\n",
       "      <td>10</td>\n",
       "      <td>monte_carlo</td>\n",
       "      <td>0.813382</td>\n",
       "      <td>0.089122</td>\n",
       "    </tr>\n",
       "    <tr>\n",
       "      <th>1</th>\n",
       "      <td>100</td>\n",
       "      <td>monte_carlo</td>\n",
       "      <td>0.761032</td>\n",
       "      <td>0.019025</td>\n",
       "    </tr>\n",
       "    <tr>\n",
       "      <th>2</th>\n",
       "      <td>1000</td>\n",
       "      <td>monte_carlo</td>\n",
       "      <td>0.750198</td>\n",
       "      <td>0.004517</td>\n",
       "    </tr>\n",
       "    <tr>\n",
       "      <th>3</th>\n",
       "      <td>10000</td>\n",
       "      <td>monte_carlo</td>\n",
       "      <td>0.750750</td>\n",
       "      <td>0.005257</td>\n",
       "    </tr>\n",
       "    <tr>\n",
       "      <th>4</th>\n",
       "      <td>100000</td>\n",
       "      <td>monte_carlo</td>\n",
       "      <td>0.747872</td>\n",
       "      <td>0.001403</td>\n",
       "    </tr>\n",
       "    <tr>\n",
       "      <th>5</th>\n",
       "      <td>1000000</td>\n",
       "      <td>monte_carlo</td>\n",
       "      <td>0.746847</td>\n",
       "      <td>0.000030</td>\n",
       "    </tr>\n",
       "    <tr>\n",
       "      <th>0</th>\n",
       "      <td>10</td>\n",
       "      <td>importance_sampling</td>\n",
       "      <td>0.759446</td>\n",
       "      <td>0.016901</td>\n",
       "    </tr>\n",
       "    <tr>\n",
       "      <th>1</th>\n",
       "      <td>100</td>\n",
       "      <td>importance_sampling</td>\n",
       "      <td>0.751709</td>\n",
       "      <td>0.006540</td>\n",
       "    </tr>\n",
       "    <tr>\n",
       "      <th>2</th>\n",
       "      <td>1000</td>\n",
       "      <td>importance_sampling</td>\n",
       "      <td>0.747243</td>\n",
       "      <td>0.000560</td>\n",
       "    </tr>\n",
       "    <tr>\n",
       "      <th>3</th>\n",
       "      <td>10000</td>\n",
       "      <td>importance_sampling</td>\n",
       "      <td>0.746359</td>\n",
       "      <td>0.000623</td>\n",
       "    </tr>\n",
       "    <tr>\n",
       "      <th>4</th>\n",
       "      <td>100000</td>\n",
       "      <td>importance_sampling</td>\n",
       "      <td>0.746482</td>\n",
       "      <td>0.000458</td>\n",
       "    </tr>\n",
       "    <tr>\n",
       "      <th>5</th>\n",
       "      <td>1000000</td>\n",
       "      <td>importance_sampling</td>\n",
       "      <td>0.746928</td>\n",
       "      <td>0.000139</td>\n",
       "    </tr>\n",
       "  </tbody>\n",
       "</table>\n",
       "</div>"
      ],
      "text/plain": [
       "         n                 tipo  estimador  estimador_erro\n",
       "0       10          monte_carlo   0.813382        0.089122\n",
       "1      100          monte_carlo   0.761032        0.019025\n",
       "2     1000          monte_carlo   0.750198        0.004517\n",
       "3    10000          monte_carlo   0.750750        0.005257\n",
       "4   100000          monte_carlo   0.747872        0.001403\n",
       "5  1000000          monte_carlo   0.746847        0.000030\n",
       "0       10  importance_sampling   0.759446        0.016901\n",
       "1      100  importance_sampling   0.751709        0.006540\n",
       "2     1000  importance_sampling   0.747243        0.000560\n",
       "3    10000  importance_sampling   0.746359        0.000623\n",
       "4   100000  importance_sampling   0.746482        0.000458\n",
       "5  1000000  importance_sampling   0.746928        0.000139"
      ]
     },
     "execution_count": 111,
     "metadata": {},
     "output_type": "execute_result"
    }
   ],
   "source": [
    "df_8"
   ]
  },
  {
   "cell_type": "code",
   "execution_count": 112,
   "id": "6e08b413-3d5d-4722-98af-51929f0a4dbb",
   "metadata": {
    "tags": []
   },
   "outputs": [
    {
     "data": {
      "text/plain": [
       "<Axes: xlabel='n', ylabel='estimador_erro'>"
      ]
     },
     "execution_count": 112,
     "metadata": {},
     "output_type": "execute_result"
    },
    {
     "data": {
      "image/png": "[encoded data removed]",
      "text/plain": [
       "<Figure size 640x480 with 1 Axes>"
      ]
     },
     "metadata": {},
     "output_type": "display_data"
    }
   ],
   "source": [
    "sns.lineplot(data = df_8, x=\"n\", hue=\"tipo\", y=\"estimador_erro\")"
   ]
  },
  {
   "cell_type": "code",
   "execution_count": null,
   "id": "d4ef7d9f-e74b-4c67-bdca-f54d34c937cb",
   "metadata": {},
   "outputs": [],
   "source": []
  }
 ],
 "metadata": {
  "kernelspec": {
   "display_name": "Python 3 (ipykernel)",
   "language": "python",
   "name": "python3"
  },
  "language_info": {
   "codemirror_mode": {
    "name": "ipython",
    "version": 3
   },
   "file_extension": ".py",
   "mimetype": "text/x-python",
   "name": "python",
   "nbconvert_exporter": "python",
   "pygments_lexer": "ipython3",
   "version": "3.11.3"
  }
 },
 "nbformat": 4,
 "nbformat_minor": 5
}
